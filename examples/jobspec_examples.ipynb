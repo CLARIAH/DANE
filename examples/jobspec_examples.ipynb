{
 "cells": [
  {
   "cell_type": "code",
   "execution_count": 1,
   "metadata": {},
   "outputs": [],
   "source": [
    "from DANE_utils import jobspec\n",
    "import json\n",
    "\n",
    "def pprint(obj):\n",
    "    print(json.dumps(json.loads(str(obj)), indent=4))"
   ]
  },
  {
   "cell_type": "markdown",
   "metadata": {},
   "source": [
    "# Jobspec"
   ]
  },
  {
   "cell_type": "code",
   "execution_count": 2,
   "metadata": {},
   "outputs": [
    {
     "name": "stdout",
     "output_type": "stream",
     "text": [
      "{\n",
      "    \"source_url\": \"http://127.0.0.1/example\",\n",
      "    \"source_id\": \"ITM123\",\n",
      "    \"source_set\": \"NISV\",\n",
      "    \"job_id\": null,\n",
      "    \"tasks\": {\n",
      "        \"taskSequential\": [\n",
      "            \"DOWNLOAD\",\n",
      "            \"CV\",\n",
      "            \"ASR\",\n",
      "            \"INDEX\",\n",
      "            \"DELETE\"\n",
      "        ]\n",
      "    },\n",
      "    \"metadata\": {},\n",
      "    \"priority\": 1,\n",
      "    \"response\": {}\n",
      "}\n"
     ]
    }
   ],
   "source": [
    "job = jobspec.jobspec(source_url='http://127.0.0.1/example', source_id='ITM123', source_set='NISV',\n",
    "                      tasks=jobspec.taskSequential(['DOWNLOAD', 'CV', 'ASR', 'INDEX', 'DELETE']))\n",
    "\n",
    "pprint(job)"
   ]
  },
  {
   "cell_type": "code",
   "execution_count": 3,
   "metadata": {},
   "outputs": [
    {
     "name": "stdout",
     "output_type": "stream",
     "text": [
      "{\n",
      "    \"source_url\": \"http://127.0.0.1/example\",\n",
      "    \"source_id\": \"ITM123\",\n",
      "    \"source_set\": \"NISV\",\n",
      "    \"job_id\": null,\n",
      "    \"tasks\": {\n",
      "        \"taskSequential\": [\n",
      "            \"DOWNLOAD\",\n",
      "            \"CV\",\n",
      "            \"ASR\",\n",
      "            \"INDEX\",\n",
      "            \"DELETE\"\n",
      "        ]\n",
      "    },\n",
      "    \"metadata\": {},\n",
      "    \"priority\": 1,\n",
      "    \"response\": {}\n",
      "}\n"
     ]
    }
   ],
   "source": [
    "new_job = jobspec.jobspec.from_json(job.to_json())\n",
    "pprint(new_job)"
   ]
  },
  {
   "cell_type": "markdown",
   "metadata": {},
   "source": [
    "## API"
   ]
  },
  {
   "cell_type": "code",
   "execution_count": 4,
   "metadata": {},
   "outputs": [
    {
     "name": "stdout",
     "output_type": "stream",
     "text": [
      "<DANE_utils.jobspec.DummyEndpoint object at 0x7f0218175e50>\n"
     ]
    }
   ],
   "source": [
    "# Dummy endpoint so we can 'simulate' behaviour of workflow\n",
    "dummy = jobspec.DummyEndpoint()\n",
    "new_job.set_api(dummy)\n",
    "\n",
    "print(new_job.tasks[0].api) # instance, won't be serialised with job"
   ]
  },
  {
   "cell_type": "code",
   "execution_count": 5,
   "metadata": {},
   "outputs": [
    {
     "name": "stdout",
     "output_type": "stream",
     "text": [
      "{\n",
      "    \"source_url\": \"http://127.0.0.1/example\",\n",
      "    \"source_id\": \"ITM123\",\n",
      "    \"source_set\": \"NISV\",\n",
      "    \"job_id\": \"c30bef02-cc68-444e-85bf-9240c0d70a3c\",\n",
      "    \"tasks\": {\n",
      "        \"taskSequential\": [\n",
      "            \"0:DOWNLOAD\",\n",
      "            \"1:CV\",\n",
      "            \"2:ASR\",\n",
      "            \"3:INDEX\",\n",
      "            \"4:DELETE\"\n",
      "        ]\n",
      "    },\n",
      "    \"metadata\": {},\n",
      "    \"priority\": 1,\n",
      "    \"response\": {}\n",
      "}\n"
     ]
    }
   ],
   "source": [
    "# register job & all tasks\n",
    "new_job.register()\n",
    "pprint(new_job)"
   ]
  },
  {
   "cell_type": "code",
   "execution_count": 6,
   "metadata": {},
   "outputs": [
    {
     "name": "stdout",
     "output_type": "stream",
     "text": [
      "DummyEndpoint: Executed task DOWNLOAD for job: c30bef02-cc68-444e-85bf-9240c0d70a3c\n"
     ]
    }
   ],
   "source": [
    "# Explicitly run a specific task\n",
    "# No guarantee that this task can run successfully if preceding tasks havent been run\n",
    "new_job.tasks[0].run()"
   ]
  },
  {
   "cell_type": "code",
   "execution_count": 7,
   "metadata": {},
   "outputs": [
    {
     "name": "stdout",
     "output_type": "stream",
     "text": [
      "DummyEndpoint: Executed task CV for job: c30bef02-cc68-444e-85bf-9240c0d70a3c\n"
     ]
    }
   ],
   "source": [
    "# run next task\n",
    "new_job.tasks.run()"
   ]
  },
  {
   "cell_type": "code",
   "execution_count": 8,
   "metadata": {},
   "outputs": [
    {
     "name": "stdout",
     "output_type": "stream",
     "text": [
      "DummyEndpoint: Executed task DOWNLOAD for job: ff9a2b8b-5362-4776-b1c6-cb9f2f35d84a\n",
      "DummyEndpoint: Executed task CV for job: ff9a2b8b-5362-4776-b1c6-cb9f2f35d84a\n",
      "DummyEndpoint: Executed task ASR for job: ff9a2b8b-5362-4776-b1c6-cb9f2f35d84a\n",
      "DummyEndpoint: Executed task INDEX for job: ff9a2b8b-5362-4776-b1c6-cb9f2f35d84a\n",
      "DummyEndpoint: Executed task DELETE for job: ff9a2b8b-5362-4776-b1c6-cb9f2f35d84a\n"
     ]
    }
   ],
   "source": [
    "job.set_api(dummy)\n",
    "job.register()\n",
    "\n",
    "while not job.isDone():\n",
    "    job.run()"
   ]
  },
  {
   "cell_type": "markdown",
   "metadata": {},
   "source": [
    "# Nesting Task Containers"
   ]
  },
  {
   "cell_type": "code",
   "execution_count": 9,
   "metadata": {},
   "outputs": [
    {
     "name": "stdout",
     "output_type": "stream",
     "text": [
      "{\n",
      "    \"taskSequential\": [\n",
      "        \"DOWNLOAD\",\n",
      "        {\n",
      "            \"taskParallel\": [\n",
      "                \"CV\",\n",
      "                \"ASR\"\n",
      "            ]\n",
      "        },\n",
      "        {\n",
      "            \"taskParallel\": [\n",
      "                \"INDEX\",\n",
      "                \"DELETE\"\n",
      "            ]\n",
      "        }\n",
      "    ]\n",
      "}\n"
     ]
    }
   ],
   "source": [
    "new_tasks = jobspec.taskSequential(['DOWNLOAD', \n",
    "                            jobspec.taskParallel(['CV', 'ASR']), \n",
    "                            jobspec.taskParallel(['INDEX', 'DELETE'])])\n",
    "pprint(new_tasks)"
   ]
  },
  {
   "cell_type": "code",
   "execution_count": 10,
   "metadata": {},
   "outputs": [
    {
     "name": "stdout",
     "output_type": "stream",
     "text": [
      "{\n",
      "    \"taskSequential\": [\n",
      "        \"DOWNLOAD\",\n",
      "        {\n",
      "            \"taskParallel\": [\n",
      "                \"CV\",\n",
      "                \"ASR\"\n",
      "            ]\n",
      "        },\n",
      "        {\n",
      "            \"taskParallel\": [\n",
      "                \"INDEX\",\n",
      "                \"DELETE\"\n",
      "            ]\n",
      "        }\n",
      "    ]\n",
      "}\n"
     ]
    }
   ],
   "source": [
    "newer_tasks = jobspec.taskContainer.from_json(new_tasks.to_json())\n",
    "pprint(newer_tasks)"
   ]
  },
  {
   "cell_type": "code",
   "execution_count": 11,
   "metadata": {},
   "outputs": [],
   "source": [
    "newer_job = jobspec.jobspec(source_url='http://127.0.0.1/example2', source_id='ITM124', source_set='NISV',\n",
    "                      tasks=newer_tasks)"
   ]
  },
  {
   "cell_type": "code",
   "execution_count": 12,
   "metadata": {},
   "outputs": [],
   "source": [
    "newer_job.set_api(dummy)\n",
    "newer_job.register()"
   ]
  },
  {
   "cell_type": "code",
   "execution_count": 13,
   "metadata": {},
   "outputs": [
    {
     "name": "stdout",
     "output_type": "stream",
     "text": [
      "DummyEndpoint: Executed task DOWNLOAD for job: 1c5e633e-5361-45f2-86e5-fd19e5f8428c\n",
      "DummyEndpoint: Executed task CV for job: 1c5e633e-5361-45f2-86e5-fd19e5f8428c\n",
      "DummyEndpoint: Executed task ASR for job: 1c5e633e-5361-45f2-86e5-fd19e5f8428c\n"
     ]
    }
   ],
   "source": [
    "newest_job = jobspec.jobspec.from_json(newer_job.to_json())\n",
    "newest_job.set_api(dummy) # api isn't serialised, so need to set again\n",
    "\n",
    "newest_job.tasks[0].run()\n",
    "newest_job.tasks[1].run()"
   ]
  }
 ],
 "metadata": {
  "kernelspec": {
   "display_name": "Python 3",
   "language": "python",
   "name": "python3"
  },
  "language_info": {
   "codemirror_mode": {
    "name": "ipython",
    "version": 3
   },
   "file_extension": ".py",
   "mimetype": "text/x-python",
   "name": "python",
   "nbconvert_exporter": "python",
   "pygments_lexer": "ipython3",
   "version": "3.7.5"
  }
 },
 "nbformat": 4,
 "nbformat_minor": 2
}
