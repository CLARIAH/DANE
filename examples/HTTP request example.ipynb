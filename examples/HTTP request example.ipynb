{
 "cells": [
  {
   "cell_type": "code",
   "execution_count": 1,
   "metadata": {},
   "outputs": [],
   "source": [
    "import requests\n",
    "import json\n",
    "import random"
   ]
  },
  {
   "cell_type": "code",
   "execution_count": 2,
   "metadata": {},
   "outputs": [],
   "source": [
    "url = 'http://localhost:5500/DANE/'"
   ]
  },
  {
   "cell_type": "code",
   "execution_count": 3,
   "metadata": {},
   "outputs": [],
   "source": [
    "doc = {'target': {\n",
    "    'id': 12345,\n",
    "    'url': 'http://doesnt.exist',\n",
    "    'type': 'Video'\n",
    "}, 'creator': {\n",
    "    'id': 'TesterHTTP',\n",
    "    'type': 'Software'\n",
    "}}"
   ]
  },
  {
   "cell_type": "code",
   "execution_count": 4,
   "metadata": {},
   "outputs": [
    {
     "name": "stdout",
     "output_type": "stream",
     "text": [
      "{\"target\": {\"id\": 12345, \"url\": \"http://doesnt.exist\", \"type\": \"Video\"}, \"creator\": {\"id\": \"TesterHTTP\", \"type\": \"Software\"}, \"_id\": \"mjdKU3QBzF8YqrTRzvAP\"}\n",
      "mjdKU3QBzF8YqrTRzvAP\n"
     ]
    }
   ],
   "source": [
    "r = requests.post(url+'document', data=json.dumps(doc))\n",
    "\n",
    "if r.status_code != 201:\n",
    "    print(str(r.status_code) + \"\\n\" + r.text)\n",
    "else:\n",
    "    print(r.text)\n",
    "    \n",
    "try:\n",
    "    d = json.loads(r.text)\n",
    "    d_id = d['_id']\n",
    "except:\n",
    "    r = requests.get(url+'document/search/{}/{}'.format(doc['target']['id'], 'TesterHTTP'))\n",
    "    d_id = json.loads(r.text)['documents'][0]\n",
    "print(d_id)"
   ]
  },
  {
   "cell_type": "code",
   "execution_count": 5,
   "metadata": {},
   "outputs": [],
   "source": [
    "task = {'key': 'TESTHTTP', 'document_id': d_id, 'some_optional_argument': 'foo'}"
   ]
  },
  {
   "cell_type": "code",
   "execution_count": 6,
   "metadata": {},
   "outputs": [
    {
     "name": "stdout",
     "output_type": "stream",
     "text": [
      "{\"task\": {\"key\": \"TESTHTTP\", \"_id\": \"nDdKU3QBzF8YqrTRzvBi\", \"state\": 201, \"msg\": \"Created\", \"priority\": 1, \"args\": {\"some_optional_argument\": \"foo\"}}}\n"
     ]
    }
   ],
   "source": [
    "r = requests.post(url+'task', data=json.dumps(task))\n",
    "\n",
    "print(r.text)"
   ]
  }
 ],
 "metadata": {
  "kernelspec": {
   "display_name": "Python 3",
   "language": "python",
   "name": "python3"
  },
  "language_info": {
   "codemirror_mode": {
    "name": "ipython",
    "version": 3
   },
   "file_extension": ".py",
   "mimetype": "text/x-python",
   "name": "python",
   "nbconvert_exporter": "python",
   "pygments_lexer": "ipython3",
   "version": "3.7.6"
  }
 },
 "nbformat": 4,
 "nbformat_minor": 4
}
