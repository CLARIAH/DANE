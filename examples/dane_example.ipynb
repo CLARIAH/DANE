{
 "cells": [
  {
   "cell_type": "code",
   "execution_count": 1,
   "metadata": {},
   "outputs": [],
   "source": [
    "import DANE\n",
    "from dummyhandler import DummyHandler\n",
    "import json"
   ]
  },
  {
   "cell_type": "markdown",
   "metadata": {},
   "source": [
    "# Document"
   ]
  },
  {
   "cell_type": "code",
   "execution_count": 2,
   "metadata": {},
   "outputs": [
    {
     "name": "stdout",
     "output_type": "stream",
     "text": [
      "{\n",
      "  \"target\": {\n",
      "    \"id\": \"ITM123\",\n",
      "    \"url\": \"http://127.0.0.1/example\",\n",
      "    \"type\": \"Video\"\n",
      "  },\n",
      "  \"creator\": {\n",
      "    \"id\": \"Example\",\n",
      "    \"type\": \"Software\"\n",
      "  }\n",
      "}\n"
     ]
    }
   ],
   "source": [
    "doc = DANE.Document(\n",
    "    {\n",
    "        'id': 'ITM123',\n",
    "        'url': 'http://127.0.0.1/example',\n",
    "        'type': 'Video'\n",
    "    },{\n",
    "        'id': 'Example',\n",
    "        'type': 'Software'\n",
    "    }\n",
    ")\n",
    "print(doc.to_json(indent=2))"
   ]
  },
  {
   "cell_type": "code",
   "execution_count": 3,
   "metadata": {},
   "outputs": [
    {
     "name": "stdout",
     "output_type": "stream",
     "text": [
      "{\"target\": {\"id\": \"ITM123\", \"url\": \"http://127.0.0.1/example\", \"type\": \"Video\"}, \"creator\": {\"id\": \"Example\", \"type\": \"Software\"}}\n"
     ]
    }
   ],
   "source": [
    "# Possible to construct a document object from a json string\n",
    "print(DANE.Document.from_json(doc.to_json()))"
   ]
  },
  {
   "cell_type": "markdown",
   "metadata": {},
   "source": [
    "## API and registering"
   ]
  },
  {
   "cell_type": "code",
   "execution_count": 4,
   "metadata": {},
   "outputs": [
    {
     "data": {
      "text/plain": [
       "<DANE.document.Document at 0x7f85ddf9e790>"
      ]
     },
     "execution_count": 4,
     "metadata": {},
     "output_type": "execute_result"
    }
   ],
   "source": [
    "# Dummy endpoint so we can 'simulate' behaviour of workflow\n",
    "handler = DummyHandler()\n",
    "doc.set_api(handler)"
   ]
  },
  {
   "cell_type": "code",
   "execution_count": 5,
   "metadata": {},
   "outputs": [
    {
     "name": "stdout",
     "output_type": "stream",
     "text": [
      "{\n",
      "  \"target\": {\n",
      "    \"id\": \"ITM123\",\n",
      "    \"url\": \"http://127.0.0.1/example\",\n",
      "    \"type\": \"Video\"\n",
      "  },\n",
      "  \"creator\": {\n",
      "    \"id\": \"Example\",\n",
      "    \"type\": \"Software\"\n",
      "  },\n",
      "  \"_id\": \"9a5717c2-acac-4efa-a34a-3e3af6a1096d\"\n",
      "}\n"
     ]
    }
   ],
   "source": [
    "# register document\n",
    "doc.register()\n",
    "print(doc.to_json(indent=2))"
   ]
  },
  {
   "cell_type": "markdown",
   "metadata": {},
   "source": [
    "## Assigning tasks"
   ]
  },
  {
   "cell_type": "code",
   "execution_count": 6,
   "metadata": {},
   "outputs": [
    {
     "name": "stdout",
     "output_type": "stream",
     "text": [
      "{\n",
      "  \"task\": {\n",
      "    \"key\": \"DUMMY\",\n",
      "    \"priority\": 1,\n",
      "    \"args\": {\n",
      "      \"foo\": \"bar\"\n",
      "    }\n",
      "  }\n",
      "}\n"
     ]
    }
   ],
   "source": [
    "# create a task with the api specified, and an arbitrary argument\n",
    "# the worker for the task is expected to know how to handle this argument\n",
    "task = DANE.Task('DUMMY', api=handler, foo='bar')\n",
    "print(task.to_json(indent=2))"
   ]
  },
  {
   "cell_type": "code",
   "execution_count": 7,
   "metadata": {},
   "outputs": [
    {
     "name": "stdout",
     "output_type": "stream",
     "text": [
      "DummyEndpoint: Executed task DUMMY for document: 9a5717c2-acac-4efa-a34a-3e3af6a1096d\n",
      "{\n",
      "  \"task\": {\n",
      "    \"key\": \"DUMMY\",\n",
      "    \"_id\": \"0\",\n",
      "    \"state\": 200,\n",
      "    \"msg\": \"Success!\",\n",
      "    \"priority\": 1,\n",
      "    \"args\": {\n",
      "      \"foo\": \"bar\"\n",
      "    }\n",
      "  }\n",
      "}\n"
     ]
    }
   ],
   "source": [
    "# assign the task to the document, this will run it right away, normally it would be added to a worker queue\n",
    "# and executed once the worker gets around to it.\n",
    "# because assign causes the task to be run, we see the 'Excuted task' message before printing the task content\n",
    "task.assign(doc._id)\n",
    "print(task.to_json(indent=2))"
   ]
  },
  {
   "cell_type": "code",
   "execution_count": 8,
   "metadata": {},
   "outputs": [
    {
     "name": "stdout",
     "output_type": "stream",
     "text": [
      "DummyEndpoint: Retried task DUMMY for document: 9a5717c2-acac-4efa-a34a-3e3af6a1096d\n",
      "{\n",
      "  \"task\": {\n",
      "    \"key\": \"DUMMY\",\n",
      "    \"_id\": \"0\",\n",
      "    \"state\": 200,\n",
      "    \"msg\": \"Retried successfully!\",\n",
      "    \"priority\": 1,\n",
      "    \"args\": {\n",
      "      \"foo\": \"bar\"\n",
      "    }\n",
      "  }\n",
      "}\n"
     ]
    }
   ],
   "source": [
    "task.retry()\n",
    "print(task.to_json(indent=2))"
   ]
  }
 ],
 "metadata": {
  "kernelspec": {
   "display_name": "Python 3",
   "language": "python",
   "name": "python3"
  },
  "language_info": {
   "codemirror_mode": {
    "name": "ipython",
    "version": 3
   },
   "file_extension": ".py",
   "mimetype": "text/x-python",
   "name": "python",
   "nbconvert_exporter": "python",
   "pygments_lexer": "ipython3",
   "version": "3.7.6"
  }
 },
 "nbformat": 4,
 "nbformat_minor": 2
}
