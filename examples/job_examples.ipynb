{
 "cells": [
  {
   "cell_type": "code",
   "execution_count": 1,
   "metadata": {},
   "outputs": [],
   "source": [
    "import DANE\n",
    "from dummyhandler import DummyHandler\n",
    "import json\n",
    "\n",
    "def pprint(obj):\n",
    "    print(json.dumps(json.loads(str(obj)), indent=4))"
   ]
  },
  {
   "cell_type": "markdown",
   "metadata": {},
   "source": [
    "# Job"
   ]
  },
  {
   "cell_type": "code",
   "execution_count": 2,
   "metadata": {},
   "outputs": [
    {
     "name": "stdout",
     "output_type": "stream",
     "text": [
      "{\n",
      "    \"source_url\": \"http://127.0.0.1/example\",\n",
      "    \"source_id\": \"ITM123\",\n",
      "    \"source_set\": \"NISV\",\n",
      "    \"job_id\": null,\n",
      "    \"tasks\": {\n",
      "        \"taskSequential\": [\n",
      "            \"DOWNLOAD\",\n",
      "            \"CV\",\n",
      "            \"ASR\",\n",
      "            \"INDEX\",\n",
      "            \"DELETE\"\n",
      "        ]\n",
      "    },\n",
      "    \"metadata\": {\n",
      "        \"FOO\": \"BAR\"\n",
      "    },\n",
      "    \"priority\": 1,\n",
      "    \"response\": {}\n",
      "}\n"
     ]
    }
   ],
   "source": [
    "job = DANE.Job(source_url='http://127.0.0.1/example', source_id='ITM123', source_set='NISV',\n",
    "                      tasks=DANE.taskSequential(['DOWNLOAD', 'CV', 'ASR', 'INDEX', 'DELETE']),\n",
    "                    metadata={'FOO': 'BAR'})\n",
    "\n",
    "pprint(job)"
   ]
  },
  {
   "cell_type": "code",
   "execution_count": 3,
   "metadata": {},
   "outputs": [
    {
     "name": "stdout",
     "output_type": "stream",
     "text": [
      "{\n",
      "    \"source_url\": \"http://127.0.0.1/example\",\n",
      "    \"source_id\": \"ITM123\",\n",
      "    \"source_set\": \"NISV\",\n",
      "    \"job_id\": null,\n",
      "    \"tasks\": {\n",
      "        \"taskSequential\": [\n",
      "            \"DOWNLOAD\",\n",
      "            \"CV\",\n",
      "            \"ASR\",\n",
      "            \"INDEX\",\n",
      "            \"DELETE\"\n",
      "        ]\n",
      "    },\n",
      "    \"metadata\": {\n",
      "        \"FOO\": \"BAR\"\n",
      "    },\n",
      "    \"priority\": 1,\n",
      "    \"response\": {}\n",
      "}\n"
     ]
    }
   ],
   "source": [
    "new_job = DANE.Job.from_json(job.to_json())\n",
    "pprint(new_job)"
   ]
  },
  {
   "cell_type": "markdown",
   "metadata": {},
   "source": [
    "## API"
   ]
  },
  {
   "cell_type": "code",
   "execution_count": 4,
   "metadata": {},
   "outputs": [
    {
     "name": "stdout",
     "output_type": "stream",
     "text": [
      "<dummyhandler.DummyHandler object at 0x7faad06a7e80>\n"
     ]
    }
   ],
   "source": [
    "# Dummy endpoint so we can 'simulate' behaviour of workflow\n",
    "dummy = DummyHandler()\n",
    "new_job.set_api(dummy)\n",
    "\n",
    "print(new_job.tasks[0].api) # instance, won't be serialised with job"
   ]
  },
  {
   "cell_type": "code",
   "execution_count": 5,
   "metadata": {},
   "outputs": [
    {
     "name": "stdout",
     "output_type": "stream",
     "text": [
      "{\n",
      "    \"source_url\": \"http://127.0.0.1/example\",\n",
      "    \"source_id\": \"ITM123\",\n",
      "    \"source_set\": \"NISV\",\n",
      "    \"job_id\": \"bfb0ad8a-a682-47b7-b386-21eebbe29177\",\n",
      "    \"tasks\": {\n",
      "        \"taskSequential\": [\n",
      "            {\n",
      "                \"Task\": {\n",
      "                    \"task_key\": \"DOWNLOAD\",\n",
      "                    \"task_id\": \"0\"\n",
      "                }\n",
      "            },\n",
      "            {\n",
      "                \"Task\": {\n",
      "                    \"task_key\": \"CV\",\n",
      "                    \"task_id\": \"1\"\n",
      "                }\n",
      "            },\n",
      "            {\n",
      "                \"Task\": {\n",
      "                    \"task_key\": \"ASR\",\n",
      "                    \"task_id\": \"2\"\n",
      "                }\n",
      "            },\n",
      "            {\n",
      "                \"Task\": {\n",
      "                    \"task_key\": \"INDEX\",\n",
      "                    \"task_id\": \"3\"\n",
      "                }\n",
      "            },\n",
      "            {\n",
      "                \"Task\": {\n",
      "                    \"task_key\": \"DELETE\",\n",
      "                    \"task_id\": \"4\"\n",
      "                }\n",
      "            }\n",
      "        ]\n",
      "    },\n",
      "    \"metadata\": {\n",
      "        \"FOO\": \"BAR\"\n",
      "    },\n",
      "    \"priority\": 1,\n",
      "    \"response\": {\n",
      "        \"SHARED\": {\n",
      "            \"TEMP_FOLDER\": \"./\",\n",
      "            \"OUT_FOLDER\": \"./\"\n",
      "        }\n",
      "    }\n",
      "}\n"
     ]
    }
   ],
   "source": [
    "# register job & all tasks\n",
    "new_job.register()\n",
    "pprint(new_job)"
   ]
  },
  {
   "cell_type": "code",
   "execution_count": 6,
   "metadata": {},
   "outputs": [
    {
     "name": "stdout",
     "output_type": "stream",
     "text": [
      "DummyEndpoint: Executed task DOWNLOAD for job: bfb0ad8a-a682-47b7-b386-21eebbe29177\n"
     ]
    },
    {
     "data": {
      "text/plain": [
       "<DANE.tasks.Task at 0x7faad054dda0>"
      ]
     },
     "execution_count": 6,
     "metadata": {},
     "output_type": "execute_result"
    }
   ],
   "source": [
    "# Explicitly run a specific task\n",
    "# No guarantee that this task can run successfully if preceding tasks havent been run\n",
    "new_job.tasks[0].run()"
   ]
  },
  {
   "cell_type": "code",
   "execution_count": 7,
   "metadata": {},
   "outputs": [
    {
     "name": "stdout",
     "output_type": "stream",
     "text": [
      "DummyEndpoint: Executed task CV for job: bfb0ad8a-a682-47b7-b386-21eebbe29177\n"
     ]
    },
    {
     "data": {
      "text/plain": [
       "<DANE.taskcontainers.taskSequential at 0x7faad0793080>"
      ]
     },
     "execution_count": 7,
     "metadata": {},
     "output_type": "execute_result"
    }
   ],
   "source": [
    "# run next task\n",
    "new_job.tasks.run()"
   ]
  },
  {
   "cell_type": "code",
   "execution_count": 8,
   "metadata": {},
   "outputs": [
    {
     "name": "stdout",
     "output_type": "stream",
     "text": [
      "DummyEndpoint: Executed task DOWNLOAD for job: d6a1965d-0bba-4252-984b-169f00ed7fd0\n",
      "DummyEndpoint: Executed task CV for job: d6a1965d-0bba-4252-984b-169f00ed7fd0\n",
      "DummyEndpoint: Executed task ASR for job: d6a1965d-0bba-4252-984b-169f00ed7fd0\n",
      "DummyEndpoint: Executed task INDEX for job: d6a1965d-0bba-4252-984b-169f00ed7fd0\n",
      "DummyEndpoint: Executed task DELETE for job: d6a1965d-0bba-4252-984b-169f00ed7fd0\n"
     ]
    }
   ],
   "source": [
    "job.set_api(dummy)\n",
    "job.register()\n",
    "\n",
    "while not job.isDone():\n",
    "    job.run()"
   ]
  },
  {
   "cell_type": "markdown",
   "metadata": {},
   "source": [
    "# Nesting Task Containers"
   ]
  },
  {
   "cell_type": "code",
   "execution_count": 9,
   "metadata": {},
   "outputs": [
    {
     "name": "stdout",
     "output_type": "stream",
     "text": [
      "{\n",
      "    \"taskSequential\": [\n",
      "        \"DOWNLOAD\",\n",
      "        {\n",
      "            \"taskParallel\": [\n",
      "                \"CV\",\n",
      "                \"ASR\"\n",
      "            ]\n",
      "        },\n",
      "        {\n",
      "            \"taskParallel\": [\n",
      "                \"INDEX\",\n",
      "                \"DELETE\"\n",
      "            ]\n",
      "        }\n",
      "    ]\n",
      "}\n"
     ]
    }
   ],
   "source": [
    "new_tasks = DANE.taskSequential(['DOWNLOAD', \n",
    "                            DANE.taskParallel(['CV', 'ASR']), \n",
    "                            DANE.taskParallel(['INDEX', 'DELETE'])])\n",
    "pprint(new_tasks)"
   ]
  },
  {
   "cell_type": "code",
   "execution_count": 10,
   "metadata": {},
   "outputs": [
    {
     "name": "stdout",
     "output_type": "stream",
     "text": [
      "{\n",
      "    \"taskSequential\": [\n",
      "        \"DOWNLOAD\",\n",
      "        {\n",
      "            \"taskParallel\": [\n",
      "                \"CV\",\n",
      "                \"ASR\"\n",
      "            ]\n",
      "        },\n",
      "        {\n",
      "            \"taskParallel\": [\n",
      "                \"INDEX\",\n",
      "                \"DELETE\"\n",
      "            ]\n",
      "        }\n",
      "    ]\n",
      "}\n"
     ]
    }
   ],
   "source": [
    "newer_tasks = DANE.taskContainer.from_json(new_tasks.to_json())\n",
    "pprint(newer_tasks)"
   ]
  },
  {
   "cell_type": "code",
   "execution_count": 11,
   "metadata": {},
   "outputs": [],
   "source": [
    "newer_job = DANE.Job(source_url='http://127.0.0.1/example2', source_id='ITM124', source_set='NISV',\n",
    "                      tasks=newer_tasks)"
   ]
  },
  {
   "cell_type": "code",
   "execution_count": 12,
   "metadata": {},
   "outputs": [
    {
     "data": {
      "text/plain": [
       "<DANE.jobs.Job at 0x7faad04e0208>"
      ]
     },
     "execution_count": 12,
     "metadata": {},
     "output_type": "execute_result"
    }
   ],
   "source": [
    "newer_job.set_api(dummy)\n",
    "newer_job.register()"
   ]
  },
  {
   "cell_type": "code",
   "execution_count": 13,
   "metadata": {},
   "outputs": [
    {
     "name": "stdout",
     "output_type": "stream",
     "text": [
      "DummyEndpoint: Executed task DOWNLOAD for job: 3ada0d04-462a-48b5-8f0d-322fd1dc187c\n",
      "DummyEndpoint: Executed task CV for job: 3ada0d04-462a-48b5-8f0d-322fd1dc187c\n",
      "DummyEndpoint: Executed task ASR for job: 3ada0d04-462a-48b5-8f0d-322fd1dc187c\n"
     ]
    },
    {
     "data": {
      "text/plain": [
       "<DANE.taskcontainers.taskParallel at 0x7faad06a7b00>"
      ]
     },
     "execution_count": 13,
     "metadata": {},
     "output_type": "execute_result"
    }
   ],
   "source": [
    "newest_job = DANE.Job.from_json(newer_job.to_json())\n",
    "newest_job.set_api(dummy) # api isn't serialised, so need to set again\n",
    "\n",
    "newest_job.tasks[0].run()\n",
    "newest_job.tasks[1].run()"
   ]
  }
 ],
 "metadata": {
  "kernelspec": {
   "display_name": "Python 3",
   "language": "python",
   "name": "python3"
  },
  "language_info": {
   "codemirror_mode": {
    "name": "ipython",
    "version": 3
   },
   "file_extension": ".py",
   "mimetype": "text/x-python",
   "name": "python",
   "nbconvert_exporter": "python",
   "pygments_lexer": "ipython3",
   "version": "3.6.8"
  }
 },
 "nbformat": 4,
 "nbformat_minor": 2
}
